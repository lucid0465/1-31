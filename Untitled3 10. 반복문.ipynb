{
 "cells": [
  {
   "cell_type": "markdown",
   "id": "2346beaa",
   "metadata": {},
   "source": [
    "## 2.for 문"
   ]
  },
  {
   "cell_type": "code",
   "execution_count": 1,
   "id": "9e3d398c",
   "metadata": {},
   "outputs": [
    {
     "name": "stdout",
     "output_type": "stream",
     "text": [
      "b\n",
      "a\n",
      "c\n"
     ]
    }
   ],
   "source": [
    "#기본 구문\n",
    "\n",
    "set_a = {'a', 'b', 'c'}\n",
    "\n",
    "for item in set_a:\n",
    "    print(item)"
   ]
  },
  {
   "cell_type": "code",
   "execution_count": 2,
   "id": "7706b5f4",
   "metadata": {},
   "outputs": [
    {
     "name": "stdout",
     "output_type": "stream",
     "text": [
      "1\n",
      "2\n",
      "3\n"
     ]
    }
   ],
   "source": [
    "# 반복 횟수만 필요할 때\n",
    "\n",
    "list_a = [1, 2, 3]\n",
    "\n",
    "num = 0\n",
    "for item in list_a:\n",
    "    num += 1\n",
    "    print(num)"
   ]
  },
  {
   "cell_type": "code",
   "execution_count": 5,
   "id": "a2b24f09",
   "metadata": {},
   "outputs": [
    {
     "name": "stdout",
     "output_type": "stream",
     "text": [
      "(1, 2)\n",
      "(3, 4)\n",
      "(5, 6)\n",
      "1 2\n",
      "3 4\n",
      "5 6\n"
     ]
    }
   ],
   "source": [
    "# 튜플일 경우 반복문\n",
    "\n",
    "list_a = [(1, 2), (3, 4), (5, 6)]\n",
    "\n",
    "for item in list_a:\n",
    "    print(item)\n",
    "\n",
    "    \n",
    "for k, v in list_a:\n",
    "    print(k, v)"
   ]
  },
  {
   "cell_type": "code",
   "execution_count": 9,
   "id": "2cc98475",
   "metadata": {},
   "outputs": [
    {
     "name": "stdout",
     "output_type": "stream",
     "text": [
      "('frult', 'apple')\n",
      "('int_num', 10)\n",
      "('float_num', 3.5)\n",
      "('gubum', True)\n",
      "frult apple\n",
      "int_num 10\n",
      "float_num 3.5\n",
      "gubum True\n"
     ]
    }
   ],
   "source": [
    "# 딕셔너리일 경우 반복문\n",
    "\n",
    "dict_a = { \"frult\":\"apple\", \"int_num\":10, \"float_num\":3.5, \"gubum\":True }\n",
    "\n",
    "for item in dict_a.items():\n",
    "    print(item)\n",
    "    \n",
    "for k, v in dict_a.items():\n",
    "    print(k, v)"
   ]
  },
  {
   "cell_type": "code",
   "execution_count": 24,
   "id": "8805e93f",
   "metadata": {},
   "outputs": [
    {
     "name": "stdout",
     "output_type": "stream",
     "text": [
      "1번 학생 45점으로 불합격입니다.\n",
      "2번 학생 65점으로 합격입니다.\n",
      "3번 학생 75점으로 합격입니다.\n",
      "4번 학생 55점으로 불합격입니다.\n",
      "5번 학생 85점으로 합격입니다.\n",
      "6번 학생 45점으로 불합격입니다.\n",
      "7번 학생 65점으로 합격입니다.\n",
      "8번 학생 75점으로 합격입니다.\n",
      "9번 학생 55점으로 불합격입니다.\n",
      "10번 학생 85점으로 합격입니다.\n",
      "11번 학생 45점으로 불합격입니다.\n",
      "12번 학생 65점으로 합격입니다.\n",
      "13번 학생 75점으로 합격입니다.\n",
      "14번 학생 55점으로 불합격입니다.\n",
      "15번 학생 85점으로 합격입니다.\n"
     ]
    }
   ],
   "source": [
    "# 예제\n",
    "# 시험점수 리스트 생성 :5, 45, 65, 75, 85\n",
    "# 시험점수가 60점 이상이면 합격, 그 외 불합격 출력\n",
    "# \"0번 학생 00점으로 합격/불합격입니다\"\n",
    "\n",
    "points = [45, 65, 75, 55, 85]\n",
    "num = 0\n",
    "\n",
    "# 1) + 연산자 포매팅\n",
    "for point in points:\n",
    "    #print(point)\n",
    "    num += 1\n",
    "    \n",
    "    if point >= 60:\n",
    "        print(str(num) + \"번 학생 \" + str(point) + \"점으로 합격입니다.\")\n",
    "    else:\n",
    "        print(str(num) + \"번 학생 \" + str(point) + \"점으로 불합격입니다.\")\n",
    "        \n",
    "    #print(\"_____________________________________\")\n",
    "    \n",
    "# 2) 표식 연산자 포매팅\n",
    "for point in points:\n",
    "    #print(point)\n",
    "    num += 1\n",
    "    if point >= 60:\n",
    "        print(\"%d번 학생 %d점으로 합격입니다.\" % (num, point))\n",
    "    else:\n",
    "        print(\"%d번 학생 %d점으로 불합격입니다.\" % (num, point))\n",
    "\n",
    "\n",
    "# 3) format 메서드 포매팅\n",
    "for point in points:\n",
    "    #print(point)\n",
    "    num += 1\n",
    "    if point >= 60:\n",
    "        print(\"{}번 학생 {}점으로 합격입니다.\".format(num, point))\n",
    "    else:\n",
    "        print(\"{}번 학생 {}점으로 불합격입니다.\".format(num, point))\n",
    "\n",
    "\n",
    "# 4) f 문자열 포매팅\n",
    "\n",
    "\n"
   ]
  },
  {
   "cell_type": "markdown",
   "id": "ceb3d9e7",
   "metadata": {},
   "source": [
    "## 3. continue"
   ]
  },
  {
   "cell_type": "code",
   "execution_count": 28,
   "id": "ce4835d5",
   "metadata": {},
   "outputs": [
    {
     "name": "stdout",
     "output_type": "stream",
     "text": [
      "2번 학생 65점으로 합격입니다.\n",
      "3번 학생 75점으로 합격입니다.\n",
      "5번 학생 85점으로 합격입니다.\n"
     ]
    }
   ],
   "source": [
    "points = [45, 65, 75, 55, 85]\n",
    "num = 0\n",
    "\n",
    "for point in points:\n",
    "    num += 1\n",
    "    \n",
    "    if point < 60:\n",
    "        continue\n",
    "    \n",
    "    print(\"%d번 학생 %d점으로 합격입니다.\" % (num, point))\n",
    "    \n",
    "#    if point >= 60:\n",
    "#        print(\"%d번 학생 %d점으로 합격입니다.\" % (num, point))\n",
    "\n"
   ]
  },
  {
   "cell_type": "code",
   "execution_count": 10,
   "id": "49538390",
   "metadata": {},
   "outputs": [
    {
     "name": "stdout",
     "output_type": "stream",
     "text": [
      "{1, 2, 3, 4, 5, 6}\n"
     ]
    }
   ],
   "source": [
    "a = {3, 6, 2, 1, 4, 5, 6}\n",
    "\n",
    "print(a)"
   ]
  },
  {
   "cell_type": "markdown",
   "id": "f9dae947",
   "metadata": {},
   "source": [
    "## 4. break"
   ]
  },
  {
   "cell_type": "code",
   "execution_count": 32,
   "id": "6a318bc8",
   "metadata": {},
   "outputs": [
    {
     "name": "stdout",
     "output_type": "stream",
     "text": [
      "2번 학생 65점으로 합격입니다.\n",
      "3번 학생 75점으로 합격입니다.\n"
     ]
    }
   ],
   "source": [
    "# 합격자수가 2명만 출력\n",
    "points = [45, 65, 75, 55, 85]\n",
    "num = 0\n",
    "hap = 0\n",
    "\n",
    "for point in points:\n",
    "    num += 1\n",
    "    \n",
    "    if point >= 60:\n",
    "        hap += 1\n",
    "        print(\"%d번 학생 %d점으로 합격입니다.\" % (num, point))\n",
    "        \n",
    "    if hap >= 2:\n",
    "        break"
   ]
  },
  {
   "cell_type": "code",
   "execution_count": 35,
   "id": "d4219d5c",
   "metadata": {},
   "outputs": [
    {
     "name": "stdout",
     "output_type": "stream",
     "text": [
      "14 105\n"
     ]
    }
   ],
   "source": [
    "# 1에서 100까지 합산하되 합한 값이 100보다 큰 경우 합산 종료\n",
    "\n",
    "number = 1\n",
    "sum = 0\n",
    "\n",
    "while number <= 100:\n",
    "    sum += number\n",
    "    if sum >= 100:\n",
    "        break\n",
    "    number += 1\n",
    "        \n",
    "print(number, sum)\n",
    "    "
   ]
  },
  {
   "cell_type": "code",
   "execution_count": 49,
   "id": "2be70f74",
   "metadata": {},
   "outputs": [
    {
     "name": "stdout",
     "output_type": "stream",
     "text": [
      "\n",
      "커피를 제공합니다\n",
      "남은돈은 290이고, 남은 커피는 9잔입니다.\n",
      "\n",
      "커피를 제공합니다\n",
      "남은돈은 280이고, 남은 커피는 8잔입니다.\n",
      "\n",
      "커피를 제공합니다\n",
      "남은돈은 270이고, 남은 커피는 7잔입니다.\n",
      "\n",
      "커피를 제공합니다\n",
      "남은돈은 260이고, 남은 커피는 6잔입니다.\n",
      "\n",
      "커피를 제공합니다\n",
      "남은돈은 250이고, 남은 커피는 5잔입니다.\n",
      "\n",
      "커피를 제공합니다\n",
      "남은돈은 240이고, 남은 커피는 4잔입니다.\n",
      "\n",
      "커피를 제공합니다\n",
      "남은돈은 230이고, 남은 커피는 3잔입니다.\n",
      "\n",
      "커피를 제공합니다\n",
      "남은돈은 220이고, 남은 커피는 2잔입니다.\n",
      "\n",
      "커피를 제공합니다\n",
      "남은돈은 210이고, 남은 커피는 1잔입니다.\n",
      "\n",
      "커피를 제공합니다\n",
      "남은돈은 200이고, 남은 커피는 0잔입니다.\n",
      "11커피가 모두 소진되었습니다. 판매 중단합니다.\n"
     ]
    }
   ],
   "source": [
    "# 커피 자판기 예제\n",
    "# 커피 재료 : 10잔, 돈이 300원 (한잔당 10원)\n",
    "# 커피 1잔 -> 9잔, 돈은 290원\n",
    "\n",
    "# 커피가 소진될 경우 \"커피가 모두 소진되었습니다. 판매 중단합니다\" 종료\n",
    "# 남은 돈이 없을 경우 \"돈이 없습니다. \" 종료\n",
    "# 커피도 있고, 돈도 있을 경우 \"커피를 제공합니다.\" 출력\n",
    "\n",
    "num = 0\n",
    "coffee = 10\n",
    "money = 300\n",
    "\n",
    "while True: \n",
    "    coffee = coffee - 1\n",
    "    money = money - 10\n",
    "    num += 1\n",
    "    #print(coffee, money)\n",
    "    \n",
    "    if coffee < 0:\n",
    "        print(str(num) + \"커피가 모두 소진되었습니다. 판매 중단합니다.\")\n",
    "        break\n",
    "        \n",
    "    if money < 0:\n",
    "        print(\"돈이 없습니다.\")\n",
    "        break\n",
    "        \n",
    "    print()    \n",
    "    print(\"커피를 제공합니다\")\n",
    "    print(\"남은돈은 %d이고, 남은 커피는 %d잔입니다.\"%(money, coffee))\n",
    "\n"
   ]
  },
  {
   "cell_type": "markdown",
   "id": "5201a8a0",
   "metadata": {},
   "source": [
    "## 5. range"
   ]
  },
  {
   "cell_type": "code",
   "execution_count": 53,
   "id": "87ac1e93",
   "metadata": {},
   "outputs": [
    {
     "ename": "SyntaxError",
     "evalue": "'(' was never closed (2850050183.py, line 10)",
     "output_type": "error",
     "traceback": [
      "\u001b[1;36m  Cell \u001b[1;32mIn[53], line 10\u001b[1;36m\u001b[0m\n\u001b[1;33m    print(list(range(1,11,2))\u001b[0m\n\u001b[1;37m         ^\u001b[0m\n\u001b[1;31mSyntaxError\u001b[0m\u001b[1;31m:\u001b[0m '(' was never closed\n"
     ]
    }
   ],
   "source": [
    "# end값만 존재\n",
    "print(range(10))\n",
    "print(list(range(10)))\n",
    "\n",
    "\n",
    "# start, end 값 존재\n",
    "print(list(range(1,11)))\n",
    "\n",
    "# start, end, step 값 존재\n",
    "print(list(range(1,11,2))\n",
    "      \n",
    "# step - 값\n",
    "print(list(range(10,0,-1)))\n",
    "      "
   ]
  },
  {
   "cell_type": "code",
   "execution_count": 62,
   "id": "28ba5d25",
   "metadata": {},
   "outputs": [
    {
     "name": "stdout",
     "output_type": "stream",
     "text": [
      "0\n",
      "1\n",
      "2\n",
      "3\n",
      "4\n"
     ]
    }
   ],
   "source": [
    "#for문에서 사용\n",
    "#for i in range(10):\n",
    "#    print(i)\n",
    "    \n",
    "#\n",
    "\n",
    "points = [45, 65, 75, 55, 85]\n",
    "\n",
    "for num in range(len(points)):\n",
    "    print(num)"
   ]
  },
  {
   "cell_type": "code",
   "execution_count": 66,
   "id": "ad04a8f0",
   "metadata": {},
   "outputs": [
    {
     "name": "stdout",
     "output_type": "stream",
     "text": [
      "*\n",
      "**\n",
      "***\n",
      "****\n",
      "*****\n",
      "******\n",
      "*******\n",
      "********\n",
      "*********\n",
      "**********\n"
     ]
    }
   ],
   "source": [
    "# 삼각형 출력\n",
    "# *\n",
    "# **\n",
    "# ***\n",
    "\n",
    "# **********\n",
    "\n",
    "for i in range(1, 11):\n",
    "    print(\"*\"*i)\n",
    "\n",
    "\n",
    "\n",
    "#print(\"*\"*10)\n"
   ]
  },
  {
   "cell_type": "code",
   "execution_count": null,
   "id": "6db6ab02",
   "metadata": {},
   "outputs": [],
   "source": [
    "# 역삼각형 출력\n",
    "\n",
    "#                *\n",
    "##      "
   ]
  },
  {
   "cell_type": "code",
   "execution_count": null,
   "id": "1173ca0c",
   "metadata": {},
   "outputs": [],
   "source": []
  }
 ],
 "metadata": {
  "kernelspec": {
   "display_name": "Python 3 (ipykernel)",
   "language": "python",
   "name": "python3"
  },
  "language_info": {
   "codemirror_mode": {
    "name": "ipython",
    "version": 3
   },
   "file_extension": ".py",
   "mimetype": "text/x-python",
   "name": "python",
   "nbconvert_exporter": "python",
   "pygments_lexer": "ipython3",
   "version": "3.10.6"
  }
 },
 "nbformat": 4,
 "nbformat_minor": 5
}
