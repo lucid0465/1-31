{
 "cells": [
  {
   "cell_type": "markdown",
   "id": "26409a11",
   "metadata": {},
   "source": [
    "## 1. 함수정의\n",
    "\n",
    "### 1) 함수 선언"
   ]
  },
  {
   "cell_type": "code",
   "execution_count": 1,
   "id": "2bb124bd",
   "metadata": {},
   "outputs": [
    {
     "data": {
      "text/plain": [
       "3"
      ]
     },
     "execution_count": 1,
     "metadata": {},
     "output_type": "execute_result"
    }
   ],
   "source": [
    "# 기본 구문\n",
    "\n",
    "def add(a, b):\n",
    "    c = a + b\n",
    "    return c\n",
    "\n",
    "print(add(1, 2))"
   ]
  },
  {
   "cell_type": "markdown",
   "id": "681ddf4f",
   "metadata": {},
   "source": [
    "### 2) docstring"
   ]
  },
  {
   "cell_type": "code",
   "execution_count": 5,
   "id": "8a9bc9b9",
   "metadata": {},
   "outputs": [
    {
     "name": "stdout",
     "output_type": "stream",
     "text": [
      "84.0\n",
      "Help on function calsum in module __main__:\n",
      "\n",
      "calsum(point, level)\n",
      "    취득점수에 난이도를 곱하는 함수\n",
      "    input : (point : 취득점수, level : 난이도)\n",
      "    return : point * level\n",
      "\n",
      "Help on function calsum in module __main__:\n",
      "\n",
      "calsum(point, level)\n",
      "    취득점수에 난이도를 곱하는 함수\n",
      "    input : (point : 취득점수, level : 난이도)\n",
      "    return : point * level\n",
      "\n"
     ]
    }
   ],
   "source": [
    "# 함수 생성할 때 추가하는 방법\n",
    "def calsum(point, level):\n",
    "    \n",
    "    \"\"\"취득점수에 난이도를 곱하는 함수\n",
    "    input : (point : 취득점수, level : 난이도)\n",
    "    return : point * level\n",
    "    \"\"\"\n",
    "    return point * level\n",
    "\n",
    "print(calsum(70, 1.2))\n",
    "\n",
    "help(calsum)\n",
    "\n",
    "help(calsum)"
   ]
  },
  {
   "cell_type": "code",
   "execution_count": 7,
   "id": "4100ef95",
   "metadata": {},
   "outputs": [
    {
     "name": "stdout",
     "output_type": "stream",
     "text": [
      "Help on function calsum in module __main__:\n",
      "\n",
      "calsum(point, level)\n",
      "    취득점수에 난이도를 곱하는 함수\n",
      "    input : (point : 취득점수, level : 난이도)\n",
      "    return : point * level\n",
      "\n"
     ]
    }
   ],
   "source": [
    "# 함수 생성 후 추가하는 방법\n",
    "\n",
    "calsum.__doc__ = \"\"\"취득점수에 난이도를 곱하는 함수\n",
    "    input : (point : 취득점수, level : 난이도)\n",
    "    return : point * level\n",
    "    \"\"\"\n",
    "\n",
    "help(calsum)"
   ]
  },
  {
   "cell_type": "markdown",
   "id": "4579c21e",
   "metadata": {},
   "source": [
    "### 3) 인수값,리턴값 유무에 따른 예제"
   ]
  },
  {
   "cell_type": "code",
   "execution_count": 8,
   "id": "b770b0c6",
   "metadata": {},
   "outputs": [
    {
     "name": "stdout",
     "output_type": "stream",
     "text": [
      "hello python!\n",
      "30\n"
     ]
    }
   ],
   "source": [
    "# 인수 : x, 리턴 x\n",
    "def head_print():\n",
    "    print(\"hello python!\")\n",
    "    a = 10\n",
    "    b = 20\n",
    "    print(a+b)\n",
    "\n",
    "head_print()"
   ]
  },
  {
   "cell_type": "code",
   "execution_count": 9,
   "id": "662c15f0",
   "metadata": {},
   "outputs": [
    {
     "name": "stdout",
     "output_type": "stream",
     "text": [
      "9\n"
     ]
    }
   ],
   "source": [
    "# 인수 : 0, 리턴 x\n",
    "def add_print(a, b):\n",
    "    print(a + b)\n",
    "    \n",
    "add_print(3, 6)\n"
   ]
  },
  {
   "cell_type": "code",
   "execution_count": 11,
   "id": "3d21e974",
   "metadata": {},
   "outputs": [
    {
     "name": "stdout",
     "output_type": "stream",
     "text": [
      "hello python!\n",
      "30\n"
     ]
    }
   ],
   "source": [
    "# 인수 : x, 리턴 o\n",
    "def head_print():\n",
    "    print(\"hello python!\")\n",
    "    a = 10\n",
    "    b = 20\n",
    "    return a+b\n",
    "\n",
    "\n",
    "var = head_print()\n",
    "\n",
    "print(var)\n",
    "\n"
   ]
  },
  {
   "cell_type": "code",
   "execution_count": 12,
   "id": "f84c5b32",
   "metadata": {},
   "outputs": [
    {
     "name": "stdout",
     "output_type": "stream",
     "text": [
      "hello python!\n",
      "30\n"
     ]
    }
   ],
   "source": [
    "# 인수 : 0, 리턴 o\n",
    "def head_input_return(a, b):\n",
    "    print(\"hello python!\")\n",
    "    return a+b\n",
    "\n",
    "\n",
    "var = head_input_return(10, 20)\n",
    "\n",
    "print(var)"
   ]
  },
  {
   "cell_type": "code",
   "execution_count": 14,
   "id": "9415a24a",
   "metadata": {},
   "outputs": [
    {
     "name": "stdout",
     "output_type": "stream",
     "text": [
      "(50, 200)\n"
     ]
    }
   ],
   "source": [
    "# 리턴값이 여러개인 경우\n",
    "def swap(a,b):\n",
    "    return a * 10, b * 20\n",
    "\n",
    "a = swap(5, 10)\n",
    "print(a)"
   ]
  },
  {
   "cell_type": "markdown",
   "id": "f385f167",
   "metadata": {},
   "source": [
    "### 4) pass 명령어"
   ]
  },
  {
   "cell_type": "code",
   "execution_count": 16,
   "id": "0b7b52fe",
   "metadata": {},
   "outputs": [
    {
     "ename": "KeyboardInterrupt",
     "evalue": "Interrupted by user",
     "output_type": "error",
     "traceback": [
      "\u001b[1;31m---------------------------------------------------------------------------\u001b[0m",
      "\u001b[1;31mKeyboardInterrupt\u001b[0m                         Traceback (most recent call last)",
      "Cell \u001b[1;32mIn[16], line 4\u001b[0m\n\u001b[0;32m      1\u001b[0m \u001b[38;5;28;01mdef\u001b[39;00m \u001b[38;5;21madd\u001b[39m():\n\u001b[0;32m      2\u001b[0m     \u001b[38;5;28;01mpass\u001b[39;00m\n\u001b[1;32m----> 4\u001b[0m num \u001b[38;5;241m=\u001b[39m \u001b[38;5;28mint\u001b[39m(\u001b[38;5;28;43minput\u001b[39;49m\u001b[43m(\u001b[49m\u001b[38;5;124;43m\"\u001b[39;49m\u001b[38;5;124;43m나이를 입력하세요\u001b[39;49m\u001b[38;5;124;43m\"\u001b[39;49m\u001b[43m)\u001b[49m)\n\u001b[0;32m      6\u001b[0m \u001b[38;5;28;01mif\u001b[39;00m num \u001b[38;5;241m<\u001b[39m \u001b[38;5;241m0\u001b[39m:\n\u001b[0;32m      7\u001b[0m     \u001b[38;5;28;01mpass\u001b[39;00m\n",
      "File \u001b[1;32mC:\\Python\\lib\\site-packages\\ipykernel\\kernelbase.py:1175\u001b[0m, in \u001b[0;36mKernel.raw_input\u001b[1;34m(self, prompt)\u001b[0m\n\u001b[0;32m   1171\u001b[0m \u001b[38;5;28;01mif\u001b[39;00m \u001b[38;5;129;01mnot\u001b[39;00m \u001b[38;5;28mself\u001b[39m\u001b[38;5;241m.\u001b[39m_allow_stdin:\n\u001b[0;32m   1172\u001b[0m     \u001b[38;5;28;01mraise\u001b[39;00m StdinNotImplementedError(\n\u001b[0;32m   1173\u001b[0m         \u001b[38;5;124m\"\u001b[39m\u001b[38;5;124mraw_input was called, but this frontend does not support input requests.\u001b[39m\u001b[38;5;124m\"\u001b[39m\n\u001b[0;32m   1174\u001b[0m     )\n\u001b[1;32m-> 1175\u001b[0m \u001b[38;5;28;01mreturn\u001b[39;00m \u001b[38;5;28;43mself\u001b[39;49m\u001b[38;5;241;43m.\u001b[39;49m\u001b[43m_input_request\u001b[49m\u001b[43m(\u001b[49m\n\u001b[0;32m   1176\u001b[0m \u001b[43m    \u001b[49m\u001b[38;5;28;43mstr\u001b[39;49m\u001b[43m(\u001b[49m\u001b[43mprompt\u001b[49m\u001b[43m)\u001b[49m\u001b[43m,\u001b[49m\n\u001b[0;32m   1177\u001b[0m \u001b[43m    \u001b[49m\u001b[38;5;28;43mself\u001b[39;49m\u001b[38;5;241;43m.\u001b[39;49m\u001b[43m_parent_ident\u001b[49m\u001b[43m[\u001b[49m\u001b[38;5;124;43m\"\u001b[39;49m\u001b[38;5;124;43mshell\u001b[39;49m\u001b[38;5;124;43m\"\u001b[39;49m\u001b[43m]\u001b[49m\u001b[43m,\u001b[49m\n\u001b[0;32m   1178\u001b[0m \u001b[43m    \u001b[49m\u001b[38;5;28;43mself\u001b[39;49m\u001b[38;5;241;43m.\u001b[39;49m\u001b[43mget_parent\u001b[49m\u001b[43m(\u001b[49m\u001b[38;5;124;43m\"\u001b[39;49m\u001b[38;5;124;43mshell\u001b[39;49m\u001b[38;5;124;43m\"\u001b[39;49m\u001b[43m)\u001b[49m\u001b[43m,\u001b[49m\n\u001b[0;32m   1179\u001b[0m \u001b[43m    \u001b[49m\u001b[43mpassword\u001b[49m\u001b[38;5;241;43m=\u001b[39;49m\u001b[38;5;28;43;01mFalse\u001b[39;49;00m\u001b[43m,\u001b[49m\n\u001b[0;32m   1180\u001b[0m \u001b[43m\u001b[49m\u001b[43m)\u001b[49m\n",
      "File \u001b[1;32mC:\\Python\\lib\\site-packages\\ipykernel\\kernelbase.py:1217\u001b[0m, in \u001b[0;36mKernel._input_request\u001b[1;34m(self, prompt, ident, parent, password)\u001b[0m\n\u001b[0;32m   1214\u001b[0m             \u001b[38;5;28;01mbreak\u001b[39;00m\n\u001b[0;32m   1215\u001b[0m \u001b[38;5;28;01mexcept\u001b[39;00m \u001b[38;5;167;01mKeyboardInterrupt\u001b[39;00m:\n\u001b[0;32m   1216\u001b[0m     \u001b[38;5;66;03m# re-raise KeyboardInterrupt, to truncate traceback\u001b[39;00m\n\u001b[1;32m-> 1217\u001b[0m     \u001b[38;5;28;01mraise\u001b[39;00m \u001b[38;5;167;01mKeyboardInterrupt\u001b[39;00m(\u001b[38;5;124m\"\u001b[39m\u001b[38;5;124mInterrupted by user\u001b[39m\u001b[38;5;124m\"\u001b[39m) \u001b[38;5;28;01mfrom\u001b[39;00m \u001b[38;5;28mNone\u001b[39m\n\u001b[0;32m   1218\u001b[0m \u001b[38;5;28;01mexcept\u001b[39;00m \u001b[38;5;167;01mException\u001b[39;00m:\n\u001b[0;32m   1219\u001b[0m     \u001b[38;5;28mself\u001b[39m\u001b[38;5;241m.\u001b[39mlog\u001b[38;5;241m.\u001b[39mwarning(\u001b[38;5;124m\"\u001b[39m\u001b[38;5;124mInvalid Message:\u001b[39m\u001b[38;5;124m\"\u001b[39m, exc_info\u001b[38;5;241m=\u001b[39m\u001b[38;5;28;01mTrue\u001b[39;00m)\n",
      "\u001b[1;31mKeyboardInterrupt\u001b[0m: Interrupted by user"
     ]
    }
   ],
   "source": [
    "def add():\n",
    "    pass\n",
    "\n",
    "num = int(input(\"나이를 입력하세요\"))\n",
    "\n",
    "if num < 0:\n",
    "    pass\n",
    "else:\n",
    "    pass\n",
    "\n",
    "prunt(num)"
   ]
  },
  {
   "cell_type": "markdown",
   "id": "0b0fff0e",
   "metadata": {},
   "source": [
    "### 2. 인수 형식\n",
    "\n",
    "## 1) 인수의 기본값"
   ]
  },
  {
   "cell_type": "code",
   "execution_count": 17,
   "id": "92a38d27",
   "metadata": {},
   "outputs": [
    {
     "name": "stdout",
     "output_type": "stream",
     "text": [
      "13\n",
      "32\n",
      "60\n"
     ]
    }
   ],
   "source": [
    "def calsum(a, b=1, c=2):\n",
    "    return a + b + c\n",
    "\n",
    "print(calsum(10))\n",
    "print(calsum(10, 20))\n",
    "print(calsum(10, 20, 30))\n",
    "\n"
   ]
  },
  {
   "cell_type": "code",
   "execution_count": 18,
   "id": "f66e567b",
   "metadata": {},
   "outputs": [
    {
     "ename": "SyntaxError",
     "evalue": "non-default argument follows default argument (2521120093.py, line 1)",
     "output_type": "error",
     "traceback": [
      "\u001b[1;36m  Cell \u001b[1;32mIn[18], line 1\u001b[1;36m\u001b[0m\n\u001b[1;33m    def calsum_error(a=1, b, c=2):\u001b[0m\n\u001b[1;37m                          ^\u001b[0m\n\u001b[1;31mSyntaxError\u001b[0m\u001b[1;31m:\u001b[0m non-default argument follows default argument\n"
     ]
    }
   ],
   "source": [
    "def calsum_error(a=1, b, c=2):\n",
    "    return a + b + c"
   ]
  },
  {
   "cell_type": "markdown",
   "id": "bda0b7aa",
   "metadata": {},
   "source": [
    "### 2) 키워드 인수"
   ]
  },
  {
   "cell_type": "code",
   "execution_count": 24,
   "id": "d65918a2",
   "metadata": {},
   "outputs": [
    {
     "name": "stdout",
     "output_type": "stream",
     "text": [
      "0.5\n",
      "0.5\n",
      "0.5\n",
      "0.5\n"
     ]
    }
   ],
   "source": [
    "def divide(a,b):\n",
    "    return a / b\n",
    "\n",
    "print(divide(10, 20))\n",
    "print(divide(a = 10, b = 20))\n",
    "print(divide(b = 20, a = 10))\n",
    "\n",
    "print(divide(10, b = 20))\n",
    "# print(divide(a = 10, 20)) - 오류발생"
   ]
  },
  {
   "cell_type": "markdown",
   "id": "ccf1f01c",
   "metadata": {},
   "source": [
    "### 3) 가변 인수"
   ]
  },
  {
   "cell_type": "code",
   "execution_count": 29,
   "id": "6d92ae9d",
   "metadata": {},
   "outputs": [
    {
     "name": "stdout",
     "output_type": "stream",
     "text": [
      "1:  100\n",
      "2: \n",
      "<class 'int'>\n",
      "<class 'tuple'>\n",
      "100\n",
      "_________________________\n",
      "1:  100\n",
      "2:  200\n",
      "<class 'int'>\n",
      "<class 'tuple'>\n",
      "300\n",
      "_________________________\n",
      "1:  100\n",
      "2:  200 300 400 500\n",
      "<class 'int'>\n",
      "<class 'tuple'>\n",
      "1500\n"
     ]
    }
   ],
   "source": [
    "def calsum(num, *values):\n",
    "    print(\"1: \",num)\n",
    "    print(\"2: \", *values)\n",
    "    print(type(num))\n",
    "    print(type(values))\n",
    "    \n",
    "    sumvalue = 0\n",
    "    for value in values:\n",
    "        sumvalue = sumvalue + value\n",
    "    return sumvalue + num\n",
    "\n",
    "print(calsum(100))\n",
    "print(\"_________________________\")\n",
    "print(calsum(100, 200))\n",
    "print(\"_________________________\")\n",
    "print(calsum(100, 200, 300, 400, 500))"
   ]
  },
  {
   "cell_type": "markdown",
   "id": "2bddae36",
   "metadata": {},
   "source": [
    "### 2) 키워드 가변 인수"
   ]
  },
  {
   "cell_type": "code",
   "execution_count": 33,
   "id": "da31a2e1",
   "metadata": {},
   "outputs": [
    {
     "name": "stdout",
     "output_type": "stream",
     "text": [
      "{'a': 1, 'b': 2, 'c': 3}\n",
      "<class 'dict'>\n",
      "('a', 1)\n",
      "('b', 2)\n",
      "('c', 3)\n",
      "a 1\n",
      "b 2\n",
      "c 3\n"
     ]
    }
   ],
   "source": [
    "# 기본 문장\n",
    "def func_a(**dica):\n",
    "    print(dica)\n",
    "    print(type(dica))\n",
    "    \n",
    "    for item in dica.items():\n",
    "        print(item)\n",
    "    \n",
    "    for k, v in dica.items():\n",
    "        print(k, v)\n",
    "    \n",
    "    \n",
    "func_a(a=1,b=2,c=3)"
   ]
  },
  {
   "cell_type": "code",
   "execution_count": 50,
   "id": "280f5d94",
   "metadata": {},
   "outputs": [
    {
     "name": "stdout",
     "output_type": "stream",
     "text": [
      "q=파이썬&\n",
      "rlz=1C1YTUH_koKR1015KR1015&\n",
      "oq=파이썬&\n",
      "/www.google.com/search?q=파이썬&rlz=1C1YTUH_koKR1015KR1015&oq=파이썬&\n"
     ]
    }
   ],
   "source": [
    "# URL예제\n",
    "# https://www.google.com/search?q=파이썬&rlz=1C1YTUH_koKR1015KR1015&oq=파이썬\n",
    "\n",
    "def urlPath(url, **params):\n",
    "    #print(params)\n",
    "    urlpath = url + \"?\"\n",
    "    for k, v in params.items():\n",
    "        #print(urlpath)\n",
    "        para = k + \"=\" + v + \"&\"\n",
    "        print(para)\n",
    "        urlpath = urlpath + para\n",
    "    return urlpath\n",
    "    \n",
    "url = urlPath(\"/www.google.com/search\", q=\"파이썬\", rlz=\"1C1YTUH_koKR1015KR1015\", oq=\"파이썬\" )\n",
    "print(url)"
   ]
  },
  {
   "cell_type": "code",
   "execution_count": 60,
   "id": "024a0e78",
   "metadata": {},
   "outputs": [
    {
     "name": "stdout",
     "output_type": "stream",
     "text": [
      "홍길동\n",
      "30\n",
      "60\n",
      "city\n",
      "dong\n"
     ]
    }
   ],
   "source": [
    "# 키워드  키워드  가변 인수 포함시\n",
    "\n",
    "\n",
    "\n",
    "def student(name, *points, **addr):\n",
    "    total = 0\n",
    "    print(name)\n",
    "    \n",
    "    for point in points:\n",
    "        total += point\n",
    "    print(point)\n",
    "    \n",
    "    print(total)\n",
    "    \n",
    "    \n",
    "    for item in addr:\n",
    "        print(item)\n",
    "    \n",
    "student(\"홍길동\", 10, 20, 30, city=\"Seoul\", dong=\"Mapo\")"
   ]
  },
  {
   "cell_type": "markdown",
   "id": "fad350aa",
   "metadata": {},
   "source": [
    "## 3. 변수의 범위"
   ]
  },
  {
   "cell_type": "code",
   "execution_count": 66,
   "id": "092f256d",
   "metadata": {},
   "outputs": [
    {
     "name": "stdout",
     "output_type": "stream",
     "text": [
      "2\n",
      "1\n"
     ]
    }
   ],
   "source": [
    "# 지역변수명과 전역변수명이 동일한 경우\n",
    "\n",
    "a = 1\n",
    "\n",
    "def func_var(a):\n",
    "    a = a + 1\n",
    "    print(a)\n",
    "    \n",
    "func_var(a)\n",
    "print(a)\n",
    "    \n"
   ]
  },
  {
   "cell_type": "code",
   "execution_count": 69,
   "id": "489be886",
   "metadata": {},
   "outputs": [
    {
     "name": "stdout",
     "output_type": "stream",
     "text": [
      "200\n",
      "200\n"
     ]
    }
   ],
   "source": [
    "# 전역변수를 함수에서 사용할 경우\n",
    "\n",
    "point = 100\n",
    "\n",
    "def calsum():\n",
    "    global point\n",
    "    \n",
    "    point = point + 100\n",
    "    print(point)\n",
    "    \n",
    "    \n",
    "calsum()\n",
    "print(point)"
   ]
  },
  {
   "cell_type": "markdown",
   "id": "9d78ca49",
   "metadata": {},
   "source": [
    "## 4. 내장함수"
   ]
  },
  {
   "cell_type": "code",
   "execution_count": 74,
   "id": "ea47c4fd",
   "metadata": {},
   "outputs": [
    {
     "data": {
      "text/plain": [
       "['ArithmeticError',\n",
       " 'AssertionError',\n",
       " 'AttributeError',\n",
       " 'BaseException',\n",
       " 'BlockingIOError',\n",
       " 'BrokenPipeError',\n",
       " 'BufferError',\n",
       " 'BytesWarning',\n",
       " 'ChildProcessError',\n",
       " 'ConnectionAbortedError',\n",
       " 'ConnectionError',\n",
       " 'ConnectionRefusedError',\n",
       " 'ConnectionResetError',\n",
       " 'DeprecationWarning',\n",
       " 'EOFError',\n",
       " 'Ellipsis',\n",
       " 'EncodingWarning',\n",
       " 'EnvironmentError',\n",
       " 'Exception',\n",
       " 'False',\n",
       " 'FileExistsError',\n",
       " 'FileNotFoundError',\n",
       " 'FloatingPointError',\n",
       " 'FutureWarning',\n",
       " 'GeneratorExit',\n",
       " 'IOError',\n",
       " 'ImportError',\n",
       " 'ImportWarning',\n",
       " 'IndentationError',\n",
       " 'IndexError',\n",
       " 'InterruptedError',\n",
       " 'IsADirectoryError',\n",
       " 'KeyError',\n",
       " 'KeyboardInterrupt',\n",
       " 'LookupError',\n",
       " 'MemoryError',\n",
       " 'ModuleNotFoundError',\n",
       " 'NameError',\n",
       " 'None',\n",
       " 'NotADirectoryError',\n",
       " 'NotImplemented',\n",
       " 'NotImplementedError',\n",
       " 'OSError',\n",
       " 'OverflowError',\n",
       " 'PendingDeprecationWarning',\n",
       " 'PermissionError',\n",
       " 'ProcessLookupError',\n",
       " 'RecursionError',\n",
       " 'ReferenceError',\n",
       " 'ResourceWarning',\n",
       " 'RuntimeError',\n",
       " 'RuntimeWarning',\n",
       " 'StopAsyncIteration',\n",
       " 'StopIteration',\n",
       " 'SyntaxError',\n",
       " 'SyntaxWarning',\n",
       " 'SystemError',\n",
       " 'SystemExit',\n",
       " 'TabError',\n",
       " 'TimeoutError',\n",
       " 'True',\n",
       " 'TypeError',\n",
       " 'UnboundLocalError',\n",
       " 'UnicodeDecodeError',\n",
       " 'UnicodeEncodeError',\n",
       " 'UnicodeError',\n",
       " 'UnicodeTranslateError',\n",
       " 'UnicodeWarning',\n",
       " 'UserWarning',\n",
       " 'ValueError',\n",
       " 'Warning',\n",
       " 'WindowsError',\n",
       " 'ZeroDivisionError',\n",
       " '__IPYTHON__',\n",
       " '__build_class__',\n",
       " '__debug__',\n",
       " '__doc__',\n",
       " '__import__',\n",
       " '__loader__',\n",
       " '__name__',\n",
       " '__package__',\n",
       " '__spec__',\n",
       " 'abs',\n",
       " 'aiter',\n",
       " 'all',\n",
       " 'anext',\n",
       " 'any',\n",
       " 'ascii',\n",
       " 'bin',\n",
       " 'bool',\n",
       " 'breakpoint',\n",
       " 'bytearray',\n",
       " 'bytes',\n",
       " 'callable',\n",
       " 'chr',\n",
       " 'classmethod',\n",
       " 'compile',\n",
       " 'complex',\n",
       " 'copyright',\n",
       " 'credits',\n",
       " 'delattr',\n",
       " 'dict',\n",
       " 'dir',\n",
       " 'display',\n",
       " 'divmod',\n",
       " 'enumerate',\n",
       " 'eval',\n",
       " 'exec',\n",
       " 'execfile',\n",
       " 'filter',\n",
       " 'float',\n",
       " 'format',\n",
       " 'frozenset',\n",
       " 'get_ipython',\n",
       " 'getattr',\n",
       " 'globals',\n",
       " 'hasattr',\n",
       " 'hash',\n",
       " 'help',\n",
       " 'hex',\n",
       " 'id',\n",
       " 'input',\n",
       " 'int',\n",
       " 'isinstance',\n",
       " 'issubclass',\n",
       " 'iter',\n",
       " 'len',\n",
       " 'license',\n",
       " 'list',\n",
       " 'locals',\n",
       " 'map',\n",
       " 'max',\n",
       " 'memoryview',\n",
       " 'min',\n",
       " 'next',\n",
       " 'object',\n",
       " 'oct',\n",
       " 'open',\n",
       " 'ord',\n",
       " 'pow',\n",
       " 'print',\n",
       " 'property',\n",
       " 'range',\n",
       " 'repr',\n",
       " 'reversed',\n",
       " 'round',\n",
       " 'runfile',\n",
       " 'set',\n",
       " 'setattr',\n",
       " 'slice',\n",
       " 'sorted',\n",
       " 'staticmethod',\n",
       " 'str',\n",
       " 'sum',\n",
       " 'super',\n",
       " 'tuple',\n",
       " 'type',\n",
       " 'vars',\n",
       " 'zip']"
      ]
     },
     "execution_count": 74,
     "metadata": {},
     "output_type": "execute_result"
    }
   ],
   "source": [
    "dir(__builtins__)"
   ]
  },
  {
   "cell_type": "code",
   "execution_count": 75,
   "id": "4f15c0fa",
   "metadata": {},
   "outputs": [
    {
     "ename": "ZeroDivisionError",
     "evalue": "division by zero",
     "output_type": "error",
     "traceback": [
      "\u001b[1;31m---------------------------------------------------------------------------\u001b[0m",
      "\u001b[1;31mZeroDivisionError\u001b[0m                         Traceback (most recent call last)",
      "Cell \u001b[1;32mIn[75], line 1\u001b[0m\n\u001b[1;32m----> 1\u001b[0m \u001b[38;5;241;43m10\u001b[39;49m\u001b[43m \u001b[49m\u001b[38;5;241;43m/\u001b[39;49m\u001b[43m \u001b[49m\u001b[38;5;241;43m0\u001b[39;49m\n",
      "\u001b[1;31mZeroDivisionError\u001b[0m: division by zero"
     ]
    }
   ],
   "source": [
    "10 / 0"
   ]
  },
  {
   "cell_type": "code",
   "execution_count": null,
   "id": "2478f244",
   "metadata": {},
   "outputs": [],
   "source": []
  },
  {
   "cell_type": "code",
   "execution_count": null,
   "id": "30e3dbbb",
   "metadata": {},
   "outputs": [],
   "source": []
  },
  {
   "cell_type": "code",
   "execution_count": null,
   "id": "605a16de",
   "metadata": {},
   "outputs": [],
   "source": []
  },
  {
   "cell_type": "code",
   "execution_count": null,
   "id": "8a3283cb",
   "metadata": {},
   "outputs": [],
   "source": []
  }
 ],
 "metadata": {
  "kernelspec": {
   "display_name": "Python 3 (ipykernel)",
   "language": "python",
   "name": "python3"
  },
  "language_info": {
   "codemirror_mode": {
    "name": "ipython",
    "version": 3
   },
   "file_extension": ".py",
   "mimetype": "text/x-python",
   "name": "python",
   "nbconvert_exporter": "python",
   "pygments_lexer": "ipython3",
   "version": "3.10.6"
  }
 },
 "nbformat": 4,
 "nbformat_minor": 5
}
